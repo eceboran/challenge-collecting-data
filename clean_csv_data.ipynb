{
 "cells": [
  {
   "cell_type": "markdown",
   "id": "9bc647eb",
   "metadata": {},
   "source": [
    "## Save listing contents as text\n",
    "Save the contents of each listing (house or apartment) into a text file, to be used later by BeautifulSoup."
   ]
  },
  {
   "cell_type": "code",
   "execution_count": 1,
   "id": "d9c561b2",
   "metadata": {},
   "outputs": [],
   "source": [
    "# Import necessary libraries\n",
    "from selenium import webdriver\n",
    "from bs4 import BeautifulSoup\n",
    "import os\n",
    "import time\n",
    "import random\n",
    "import re\n",
    "from queue import Queue\n",
    "from threading import Thread\n",
    "import requests\n",
    "import json\n",
    "import pandas as pd"
   ]
  },
  {
   "cell_type": "code",
   "execution_count": 2,
   "id": "f78ce9e9",
   "metadata": {},
   "outputs": [
    {
     "name": "stdout",
     "output_type": "stream",
     "text": [
      "C:\\Users\\ecebo\\MyRepos\\challenge-collecting-data\n",
      "C:\\Users\\ecebo\\MyRepos\\challenge-collecting-data\\data/\n"
     ]
    }
   ],
   "source": [
    "# Create a folder for data\n",
    "main_path = os.path.abspath(\"\")"
   ]
  },
  {
   "cell_type": "code",
   "execution_count": 6,
   "id": "f193a4d1",
   "metadata": {},
   "outputs": [],
   "source": [
    "csv_raw_file_name = \"real_estate_offers_raw.csv\"\n",
    "csv_raw_file_path = os.path.join(main_path,csv_raw_file_name)"
   ]
  },
  {
   "cell_type": "code",
   "execution_count": 7,
   "id": "adc6df00",
   "metadata": {},
   "outputs": [],
   "source": [
    "# Load csv file for further processing\n",
    "df_Raw = pd.read_csv(csv_raw_file_path)"
   ]
  },
  {
   "cell_type": "code",
   "execution_count": 8,
   "id": "f81bee97",
   "metadata": {},
   "outputs": [
    {
     "name": "stdout",
     "output_type": "stream",
     "text": [
      "      House Id House Type               Subtype    Price Transaction Type  \\\n",
      "0      4045224      house                 house  1450000         for sale   \n",
      "1      5750433      house                 villa  2750000         for sale   \n",
      "2      6532849      house                 villa  3800000         for sale   \n",
      "3      7029637      house                 house   210000         for sale   \n",
      "4      7137615      house  exceptional property   600000         for sale   \n",
      "...        ...        ...                   ...      ...              ...   \n",
      "9235   9565021      house                 house   369000         for sale   \n",
      "9236   9565110  apartment             apartment   369500         for sale   \n",
      "9237   9565111  apartment             apartment   369500         for sale   \n",
      "9238   9565129      house               mansion   385000         for sale   \n",
      "9239   9565133      house    mixed use building   385000         for sale   \n",
      "\n",
      "           Kitchen Type  Room Number    Area  Garden Terrace Swimming Pool  \\\n",
      "0         usa installed            2   300.0   200.0    True          True   \n",
      "1        hyper equipped            7  2600.0     NaN    True           NaN   \n",
      "2        hyper equipped            7  1367.0     NaN    True           NaN   \n",
      "3         semi equipped            3   354.0   206.0     NaN           NaN   \n",
      "4                   NaN            5   320.0     NaN    True           NaN   \n",
      "...                 ...          ...     ...     ...     ...           ...   \n",
      "9235  usa semi equipped            3   915.0   400.0    True           NaN   \n",
      "9236                NaN            3     NaN     NaN    True           NaN   \n",
      "9237                NaN            3     NaN     NaN    True           NaN   \n",
      "9238          installed            3   140.0     NaN    True           NaN   \n",
      "9239          installed            3   140.0     NaN    True           NaN   \n",
      "\n",
      "      State of Building  \n",
      "0                  True  \n",
      "1                 False  \n",
      "2                 False  \n",
      "3                 False  \n",
      "4                 False  \n",
      "...                 ...  \n",
      "9235              False  \n",
      "9236              False  \n",
      "9237              False  \n",
      "9238              False  \n",
      "9239              False  \n",
      "\n",
      "[9240 rows x 12 columns]\n"
     ]
    }
   ],
   "source": [
    "print(df_Raw)"
   ]
  },
  {
   "cell_type": "code",
   "execution_count": null,
   "id": "0ab4cc14",
   "metadata": {},
   "outputs": [],
   "source": [
    "# Clean the data"
   ]
  },
  {
   "cell_type": "code",
   "execution_count": null,
   "id": "af328c13",
   "metadata": {},
   "outputs": [],
   "source": [
    "csv_processed_file_name = \"real_estate_offers.csv\"\n",
    "csv_processed_file_name = os.path.join(main_path,csv_raw_file_name)"
   ]
  },
  {
   "cell_type": "code",
   "execution_count": null,
   "id": "64c6ee65",
   "metadata": {},
   "outputs": [],
   "source": [
    "# Save csv file\n",
    "df.to_csv(csv_raw_file_path, index=False)"
   ]
  }
 ],
 "metadata": {
  "kernelspec": {
   "display_name": "Python 3 (ipykernel)",
   "language": "python",
   "name": "python3"
  },
  "language_info": {
   "codemirror_mode": {
    "name": "ipython",
    "version": 3
   },
   "file_extension": ".py",
   "mimetype": "text/x-python",
   "name": "python",
   "nbconvert_exporter": "python",
   "pygments_lexer": "ipython3",
   "version": "3.8.8"
  }
 },
 "nbformat": 4,
 "nbformat_minor": 5
}
