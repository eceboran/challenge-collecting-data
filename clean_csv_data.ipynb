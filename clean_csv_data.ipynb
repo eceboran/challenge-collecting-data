{
 "cells": [
  {
   "cell_type": "markdown",
   "metadata": {},
   "source": [
    "## Save listing contents as text\n",
    "Save the contents of each listing (house or apartment) into a text file, to be used later by BeautifulSoup."
   ]
  },
  {
   "cell_type": "code",
   "execution_count": 1,
   "metadata": {},
   "outputs": [],
   "source": [
    "# Import necessary libraries\n",
    "import os\n",
    "import pandas as pd"
   ]
  },
  {
   "cell_type": "code",
   "execution_count": 2,
   "metadata": {},
   "outputs": [],
   "source": [
    "# Create a folder for data\n",
    "main_path = os.path.abspath(\"\")"
   ]
  },
  {
   "cell_type": "code",
   "execution_count": 3,
   "metadata": {},
   "outputs": [],
   "source": [
    "csv_raw_file_name = \"real_estate_offers_raw.csv\"\n",
    "csv_raw_file_path = os.path.join(main_path,csv_raw_file_name)"
   ]
  },
  {
   "cell_type": "code",
   "execution_count": 4,
   "metadata": {},
   "outputs": [],
   "source": [
    "# Load csv file for further processing\n",
    "df_raw = pd.read_csv(csv_raw_file_path)"
   ]
  },
  {
   "cell_type": "code",
   "execution_count": 5,
   "metadata": {},
   "outputs": [],
   "source": [
    "# Clean the data"
   ]
  },
  {
   "cell_type": "code",
   "execution_count": 6,
   "metadata": {},
   "outputs": [],
   "source": [
    "csv_processed_file_name = \"real_estate_offers.csv\"\n",
    "csv_processed_file_path = os.path.join(main_path,csv_raw_file_name)"
   ]
  },
  {
   "cell_type": "code",
   "execution_count": 7,
   "metadata": {},
   "outputs": [],
   "source": [
    "df_raw.rename(columns={'House Id': 'Listing Id', 'House Type': 'Property Type', 'Subtype': 'Property Subtype', 'Kitchen Type': 'Fully Equipped Kitchen','Room Number': 'Number of Rooms'}, inplace=True)"
   ]
  },
  {
   "cell_type": "code",
   "execution_count": 8,
   "metadata": {},
   "outputs": [
    {
     "name": "stdout",
     "output_type": "stream",
     "text": [
      "      Listing Id  Locality Property Type      Property Subtype    Price  \\\n",
      "0        4045224      8660         house                 house  1450000   \n",
      "1        5750433      1180         house                 villa  2750000   \n",
      "2        6532849      1150         house                 villa  3800000   \n",
      "3        7029637      2890         house                 house   210000   \n",
      "4        7137615      4500         house  exceptional property   600000   \n",
      "...          ...       ...           ...                   ...      ...   \n",
      "9235     9565021      4540         house                 house   369000   \n",
      "9236     9565110      8790     apartment             apartment   369500   \n",
      "9237     9565111      8790     apartment             apartment   369500   \n",
      "9238     9565129      9700         house               mansion   385000   \n",
      "9239     9565133      9700         house    mixed use building   385000   \n",
      "\n",
      "     Fully Equipped Kitchen  Number of Rooms    Area  Garden Terrace  \\\n",
      "0             usa installed                2   300.0   200.0    True   \n",
      "1            hyper equipped                7  2600.0     NaN    True   \n",
      "2            hyper equipped                7  1367.0     NaN    True   \n",
      "3             semi equipped                3   354.0   206.0     NaN   \n",
      "4                       NaN                5   320.0     NaN    True   \n",
      "...                     ...              ...     ...     ...     ...   \n",
      "9235      usa semi equipped                3   915.0   400.0    True   \n",
      "9236                    NaN                3     NaN     NaN    True   \n",
      "9237                    NaN                3     NaN     NaN    True   \n",
      "9238              installed                3   140.0     NaN    True   \n",
      "9239              installed                3   140.0     NaN    True   \n",
      "\n",
      "     Swimming Pool  New Building  \n",
      "0             True          True  \n",
      "1              NaN         False  \n",
      "2              NaN         False  \n",
      "3              NaN         False  \n",
      "4              NaN         False  \n",
      "...            ...           ...  \n",
      "9235           NaN         False  \n",
      "9236           NaN         False  \n",
      "9237           NaN         False  \n",
      "9238           NaN         False  \n",
      "9239           NaN         False  \n",
      "\n",
      "[9240 rows x 12 columns]\n"
     ]
    }
   ],
   "source": [
    "print(df_raw)"
   ]
  },
  {
   "cell_type": "code",
   "execution_count": 9,
   "metadata": {},
   "outputs": [
    {
     "data": {
      "text/plain": [
       "0       False\n",
       "1       False\n",
       "2       False\n",
       "3       False\n",
       "4       False\n",
       "        ...  \n",
       "9235    False\n",
       "9236    False\n",
       "9237    False\n",
       "9238    False\n",
       "9239    False\n",
       "Name: Listing Id, Length: 9240, dtype: bool"
      ]
     },
     "execution_count": 9,
     "metadata": {},
     "output_type": "execute_result"
    }
   ],
   "source": [
    "df_raw[\"Listing Id\"].duplicated()"
   ]
  },
  {
   "cell_type": "code",
   "execution_count": 10,
   "metadata": {},
   "outputs": [
    {
     "data": {
      "text/plain": [
       "array(['house', 'apartment'], dtype=object)"
      ]
     },
     "execution_count": 10,
     "metadata": {},
     "output_type": "execute_result"
    }
   ],
   "source": [
    "df_raw[\"Property Type\"].unique()"
   ]
  },
  {
   "cell_type": "code",
   "execution_count": 11,
   "metadata": {},
   "outputs": [
    {
     "data": {
      "text/plain": [
       "array(['house', 'villa', 'exceptional property', 'apartment',\n",
       "       'town house', 'mansion', 'mixed use building', 'triplex',\n",
       "       'penthouse', 'ground floor', 'duplex', 'service flat', 'farmhouse',\n",
       "       'loft', 'apartment block', 'flat studio', 'country cottage',\n",
       "       'bungalow', 'other property', 'kot', 'castle', 'chalet',\n",
       "       'manor house', 'pavilion'], dtype=object)"
      ]
     },
     "execution_count": 11,
     "metadata": {},
     "output_type": "execute_result"
    }
   ],
   "source": [
    "df_raw[\"Property Subtype\"].unique()"
   ]
  },
  {
   "cell_type": "code",
   "execution_count": 12,
   "metadata": {},
   "outputs": [
    {
     "data": {
      "text/plain": [
       "array([1450000, 2750000, 3800000, ...,  483500,  797000,  369500],\n",
       "      dtype=int64)"
      ]
     },
     "execution_count": 12,
     "metadata": {},
     "output_type": "execute_result"
    }
   ],
   "source": [
    "df_raw[\"Price\"].unique()"
   ]
  },
  {
   "cell_type": "code",
   "execution_count": 13,
   "metadata": {},
   "outputs": [
    {
     "data": {
      "text/plain": [
       "array(['usa installed', 'hyper equipped', 'semi equipped', nan,\n",
       "       'installed', 'usa hyper equipped', 'not installed',\n",
       "       'usa uninstalled', 'usa semi equipped'], dtype=object)"
      ]
     },
     "execution_count": 13,
     "metadata": {},
     "output_type": "execute_result"
    }
   ],
   "source": [
    "df_raw[\"Fully Equipped Kitchen\"].unique()"
   ]
  },
  {
   "cell_type": "code",
   "execution_count": 14,
   "metadata": {},
   "outputs": [
    {
     "data": {
      "text/plain": [
       "0       False\n",
       "1       False\n",
       "2       False\n",
       "3       False\n",
       "4        True\n",
       "        ...  \n",
       "9235    False\n",
       "9236     True\n",
       "9237     True\n",
       "9238    False\n",
       "9239    False\n",
       "Name: Fully Equipped Kitchen, Length: 9240, dtype: bool"
      ]
     },
     "execution_count": 14,
     "metadata": {},
     "output_type": "execute_result"
    }
   ],
   "source": [
    "df_raw[\"Fully Equipped Kitchen\"].isnull()"
   ]
  },
  {
   "cell_type": "code",
   "execution_count": 15,
   "metadata": {},
   "outputs": [],
   "source": [
    "df_raw[\"Fully Equipped Kitchen\"].replace(['semi equipped', 'not installed', 'usa uninstalled', 'usa semi equipped'], 0, inplace=True)"
   ]
  },
  {
   "cell_type": "code",
   "execution_count": 16,
   "metadata": {},
   "outputs": [],
   "source": [
    "df_raw[\"Fully Equipped Kitchen\"].replace(['usa installed', 'hyper equipped', 'installed', 'usa hyper equipped'], 1, inplace=True)"
   ]
  },
  {
   "cell_type": "code",
   "execution_count": 17,
   "metadata": {},
   "outputs": [],
   "source": [
    "df_raw[\"Fully Equipped Kitchen\"].fillna(0, inplace = True)"
   ]
  },
  {
   "cell_type": "code",
   "execution_count": 18,
   "metadata": {},
   "outputs": [
    {
     "data": {
      "text/plain": [
       "array([1., 0.])"
      ]
     },
     "execution_count": 18,
     "metadata": {},
     "output_type": "execute_result"
    }
   ],
   "source": [
    "df_raw[\"Fully Equipped Kitchen\"].unique()"
   ]
  },
  {
   "cell_type": "code",
   "execution_count": 19,
   "metadata": {},
   "outputs": [],
   "source": [
    "#df_raw[\"New Building\"].replace(['True', 1], inplace = True)\n",
    "#df_raw[\"New Building\"].replace(['False', 0], inplace = True)"
   ]
  },
  {
   "cell_type": "code",
   "execution_count": 20,
   "metadata": {},
   "outputs": [
    {
     "data": {
      "text/plain": [
       "array([ True, False])"
      ]
     },
     "execution_count": 20,
     "metadata": {},
     "output_type": "execute_result"
    }
   ],
   "source": [
    "df_raw[\"New Building\"].unique()"
   ]
  },
  {
   "cell_type": "code",
   "execution_count": 21,
   "metadata": {},
   "outputs": [],
   "source": [
    "# Save csv file\n",
    "df_raw.to_csv(csv_processed_file_path, index=False)"
   ]
  },
  {
   "cell_type": "code",
   "execution_count": null,
   "metadata": {},
   "outputs": [],
   "source": []
  },
  {
   "cell_type": "code",
   "execution_count": null,
   "metadata": {},
   "outputs": [],
   "source": []
  },
  {
   "cell_type": "code",
   "execution_count": null,
   "metadata": {},
   "outputs": [],
   "source": []
  }
 ],
 "metadata": {
  "kernelspec": {
   "display_name": "Python 3",
   "language": "python",
   "name": "python3"
  },
  "language_info": {
   "codemirror_mode": {
    "name": "ipython",
    "version": 3
   },
   "file_extension": ".py",
   "mimetype": "text/x-python",
   "name": "python",
   "nbconvert_exporter": "python",
   "pygments_lexer": "ipython3",
   "version": "3.8.5"
  }
 },
 "nbformat": 4,
 "nbformat_minor": 5
}
