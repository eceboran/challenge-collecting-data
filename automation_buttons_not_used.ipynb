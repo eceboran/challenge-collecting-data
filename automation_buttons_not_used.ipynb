{
 "cells": [
  {
   "cell_type": "markdown",
   "id": "9bc647eb",
   "metadata": {},
   "source": [
    "## Prototype"
   ]
  },
  {
   "cell_type": "markdown",
   "id": "4ebe1d7e",
   "metadata": {},
   "source": [
    "Code cell for importing libraries"
   ]
  },
  {
   "cell_type": "code",
   "execution_count": 2,
   "id": "d9c561b2",
   "metadata": {},
   "outputs": [],
   "source": [
    "from bs4 import BeautifulSoup\n",
    "from selenium import webdriver\n",
    "import requests"
   ]
  },
  {
   "cell_type": "markdown",
   "id": "034d12b9",
   "metadata": {},
   "source": [
    "Enter the address\n",
    "\n",
    "Connect to the website with selenium \n",
    "\n",
    "Select House and apartment (click)\n",
    "\n",
    "Find the clickable for Search on the list and click on it"
   ]
  },
  {
   "cell_type": "code",
   "execution_count": 3,
   "id": "42d60748",
   "metadata": {},
   "outputs": [
    {
     "name": "stdout",
     "output_type": "stream",
     "text": [
      "3\n",
      "[{'name': '__cf_bm', 'value': 'KiM8GHBNSbG_LcjeW3TC7CPquXRbC.FIW4YYjv8zyoQ-1634121021-0-ATeki1pPgO0nH85JPN7PvusDbAI9HeoetHbc4zuvefKX5E8TEtrHHoINAOmtfwD0Urq+QNvrfJ+zcXW2un4peII=', 'path': '/', 'domain': '.immoweb.be', 'secure': True, 'httpOnly': True, 'expiry': 1634122821, 'sameSite': 'None'}, {'name': 'XSRF-TOKEN', 'value': 'eyJpdiI6InpMMy9TZkJ3Y2xOL0NMWGpHL0pjUkE9PSIsInZhbHVlIjoicVVQNmJoYVUvU1BHZjBQWTFXTHhreENBQ0FEdlFLNVFyQ3UvQXVPRTd1NWdteFhDUmgxS3U3SGEwcnZQRnlRWW4vTTRaVjgxelFKa3JyRm9WNG9xZzVWOTRvdXdrSU96Y1IrN1ROdXBPeGlsaTU3UjBCL2J6WlQ5bWs2aUkzWFgiLCJtYWMiOiJmNDM1MDgxNzU0ZTkzNjc3Y2MzZTc5NzcwMzRmYjZlZmNmNDIwNWJmOWYxMWE0M2JmOTY2YWJkZDdkZGJjNjNiIn0%3D', 'path': '/', 'domain': 'www.immoweb.be', 'secure': True, 'httpOnly': False, 'expiry': 1636799423, 'sameSite': 'None'}, {'name': 'immoweb_session', 'value': 'eyJpdiI6IjFOcVYzMXg0aFBZVXkzcjcrNWRIYWc9PSIsInZhbHVlIjoiZmNQRFF3dStIM0tmWFdDTVpQN2lTcFRJV1UzNXUzM254akoxaUxzREhkZ09LQzMwSXREVTJPRzJHSXgwWmI5Uk9hdGI4RWlZTkRvdXdTYnVZcEdrZ1dXdUhJUzRuSHVjTHRmUUVkajVlemYvbjl6UnpSM3c4TU94Q1dTZ0tCdzUiLCJtYWMiOiI4MTEwMTUxYzYzMzdhY2VhZDcxYjMzOTdjMjhjNTY2MWVjM2M1Nzg1OWFjMjkxN2FhNGNjNjk0NmEzMjQ0ZWNhIn0%3D', 'path': '/', 'domain': 'www.immoweb.be', 'secure': False, 'httpOnly': True, 'expiry': 1636799423, 'sameSite': 'None'}]\n",
      "0\n",
      "[]\n"
     ]
    }
   ],
   "source": [
    "import bs4\n",
    "import requests\n",
    "import numpy as np\n",
    "import pandas as pd\n",
    "import json\n",
    "import re\n",
    "import lxml.html\n",
    "import time\n",
    "import random\n",
    "from random import randint\n",
    "import logging\n",
    "import collections\n",
    "from time import gmtime, strftime\n",
    "\n",
    "import re\n",
    "from tabulate import tabulate\n",
    "import os\n",
    "\n",
    "from selenium.webdriver.support.ui import WebDriverWait\n",
    "from selenium.webdriver.support import expected_conditions as EC\n",
    "from selenium.common.exceptions import TimeoutException\n",
    "from selenium.webdriver.common.by import By \n",
    "from selenium.webdriver.common.action_chains import ActionChains\n",
    "import sys\n",
    "\n",
    "url = \"https://www.immoweb.be/en\"\n",
    "\n",
    "\n",
    "driver = webdriver.Firefox()\n",
    "driver.implicitly_wait(30)\n",
    "driver.get(url)\n",
    "\n",
    "cookies = driver.get_cookies()\n",
    "\n",
    "amount_cookies_start = len(cookies)\n",
    "print(amount_cookies_start) #print number of cookies being created\n",
    "print(cookies) # prints cookie pairs\n",
    "\n",
    "# there's 3 cookies found\n",
    "# deleting cookies\n",
    "driver.delete_cookie('__cf_bm')\n",
    "driver.delete_cookie('XSRF-TOKEN')\n",
    "driver.delete_cookie('immoweb_session')\n",
    "\n",
    "cookies = driver.get_cookies()\n",
    "\n",
    "amount_cookies_left = len(cookies)\n",
    "print(amount_cookies_left) # print amount of cookies left after deleting cookies\n",
    "print(cookies)\n",
    "\n",
    "link = driver.find_element_by_link_text(\"House and apartment\") # clicking the button\n",
    "link.click()\n",
    "\n",
    "\n"
   ]
  },
  {
   "cell_type": "markdown",
   "id": "3fd79a98",
   "metadata": {},
   "source": [
    "Get the list of all links\n",
    "the element has href in it \n",
    "li/div/article/h2/a\n",
    "get href contents"
   ]
  },
  {
   "cell_type": "markdown",
   "id": "97ed4ca0",
   "metadata": {},
   "source": [
    "Sponsored links ?\n"
   ]
  },
  {
   "cell_type": "code",
   "execution_count": null,
   "id": "fb05d015",
   "metadata": {},
   "outputs": [],
   "source": []
  },
  {
   "cell_type": "markdown",
   "id": "285575e2",
   "metadata": {},
   "source": [
    "Get 1 link"
   ]
  },
  {
   "cell_type": "code",
   "execution_count": 291,
   "id": "27532d9d",
   "metadata": {},
   "outputs": [],
   "source": []
  },
  {
   "cell_type": "markdown",
   "id": "9e9b9bf6",
   "metadata": {},
   "source": [
    "Click on the link"
   ]
  },
  {
   "cell_type": "code",
   "execution_count": null,
   "id": "fd563c0b",
   "metadata": {},
   "outputs": [],
   "source": []
  },
  {
   "cell_type": "markdown",
   "id": "3ca93fe9",
   "metadata": {},
   "source": [
    "Observe the field names for all info we need\n"
   ]
  },
  {
   "cell_type": "code",
   "execution_count": null,
   "id": "e69c78e1",
   "metadata": {},
   "outputs": [],
   "source": []
  },
  {
   "cell_type": "markdown",
   "id": "8922f142",
   "metadata": {},
   "source": [
    "Relate fields on the page with the fields we will have\n"
   ]
  },
  {
   "cell_type": "code",
   "execution_count": null,
   "id": "20579640",
   "metadata": {},
   "outputs": [],
   "source": []
  },
  {
   "cell_type": "markdown",
   "id": "cfe4a993",
   "metadata": {},
   "source": [
    "Get the contents of 3 fields and save in variables:\n",
    "id\n",
    "locality\n",
    "price"
   ]
  },
  {
   "cell_type": "code",
   "execution_count": null,
   "id": "f2920ba8",
   "metadata": {},
   "outputs": [],
   "source": []
  },
  {
   "cell_type": "markdown",
   "id": "63a0e032",
   "metadata": {},
   "source": [
    "Get contents of 2 fields for all links in a page"
   ]
  },
  {
   "cell_type": "code",
   "execution_count": null,
   "id": "a5224438",
   "metadata": {},
   "outputs": [],
   "source": []
  },
  {
   "cell_type": "markdown",
   "id": "925f7007",
   "metadata": {},
   "source": [
    "Save the contents to a csv file"
   ]
  },
  {
   "cell_type": "code",
   "execution_count": null,
   "id": "ba54f20e",
   "metadata": {},
   "outputs": [],
   "source": []
  }
 ],
 "metadata": {
  "kernelspec": {
   "display_name": "Python 3",
   "language": "python",
   "name": "python3"
  },
  "language_info": {
   "codemirror_mode": {
    "name": "ipython",
    "version": 3
   },
   "file_extension": ".py",
   "mimetype": "text/x-python",
   "name": "python",
   "nbconvert_exporter": "python",
   "pygments_lexer": "ipython3",
   "version": "3.8.8"
  }
 },
 "nbformat": 4,
 "nbformat_minor": 5
}
