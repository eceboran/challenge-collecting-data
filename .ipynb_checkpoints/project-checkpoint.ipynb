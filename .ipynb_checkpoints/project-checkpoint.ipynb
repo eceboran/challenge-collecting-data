{
 "cells": [
  {
   "cell_type": "markdown",
   "id": "9bc647eb",
   "metadata": {},
   "source": [
    "## Prototype"
   ]
  },
  {
   "cell_type": "markdown",
   "id": "4ebe1d7e",
   "metadata": {},
   "source": [
    "Code cell for importing libraries"
   ]
  },
  {
   "cell_type": "code",
   "execution_count": 30,
   "id": "d9c561b2",
   "metadata": {},
   "outputs": [],
   "source": [
    "from bs4 import BeautifulSoup\n",
    "from selenium import webdriver\n",
    "import requests"
   ]
  },
  {
   "cell_type": "markdown",
   "id": "fdfe06c1",
   "metadata": {},
   "source": [
    "Enter the address"
   ]
  },
  {
   "cell_type": "code",
   "execution_count": null,
   "id": "fdf2bd7e",
   "metadata": {},
   "outputs": [],
   "source": []
  },
  {
   "cell_type": "markdown",
   "id": "954fafb7",
   "metadata": {},
   "source": [
    "Connect to the website with selenium\n",
    "(Make sure buy is selected)"
   ]
  },
  {
   "cell_type": "code",
   "execution_count": null,
   "id": "4fee908e",
   "metadata": {},
   "outputs": [],
   "source": []
  },
  {
   "cell_type": "markdown",
   "id": "ff14560c",
   "metadata": {},
   "source": [
    "Find the drop-down menu for type of real estate\n"
   ]
  },
  {
   "cell_type": "code",
   "execution_count": null,
   "id": "049e46c2",
   "metadata": {},
   "outputs": [],
   "source": []
  },
  {
   "cell_type": "markdown",
   "id": "609c2d8b",
   "metadata": {},
   "source": [
    "Select House and apartment (click)"
   ]
  },
  {
   "cell_type": "code",
   "execution_count": null,
   "id": "57d7762d",
   "metadata": {},
   "outputs": [],
   "source": []
  },
  {
   "cell_type": "markdown",
   "id": "034d12b9",
   "metadata": {},
   "source": [
    "Find the clickable for Search on the list and click on it"
   ]
  },
  {
   "cell_type": "code",
   "execution_count": null,
   "id": "42d60748",
   "metadata": {},
   "outputs": [],
   "source": []
  },
  {
   "cell_type": "markdown",
   "id": "3fd79a98",
   "metadata": {},
   "source": [
    "Get the list of all links\n",
    "the element has href in it \n",
    "li/div/article/h2/a\n",
    "get href contents"
   ]
  },
  {
   "cell_type": "markdown",
   "id": "97ed4ca0",
   "metadata": {},
   "source": [
    "Sponsored links ?\n"
   ]
  },
  {
   "cell_type": "code",
   "execution_count": null,
   "id": "fb05d015",
   "metadata": {},
   "outputs": [],
   "source": []
  },
  {
   "cell_type": "markdown",
   "id": "285575e2",
   "metadata": {},
   "source": [
    "Get 1 link"
   ]
  },
  {
   "cell_type": "code",
   "execution_count": 291,
   "id": "27532d9d",
   "metadata": {},
   "outputs": [],
   "source": []
  },
  {
   "cell_type": "markdown",
   "id": "9e9b9bf6",
   "metadata": {},
   "source": [
    "Click on the link"
   ]
  },
  {
   "cell_type": "code",
   "execution_count": null,
   "id": "fd563c0b",
   "metadata": {},
   "outputs": [],
   "source": []
  },
  {
   "cell_type": "markdown",
   "id": "3ca93fe9",
   "metadata": {},
   "source": [
    "Observe the field names for all info we need\n"
   ]
  },
  {
   "cell_type": "code",
   "execution_count": null,
   "id": "e69c78e1",
   "metadata": {},
   "outputs": [],
   "source": []
  },
  {
   "cell_type": "markdown",
   "id": "8922f142",
   "metadata": {},
   "source": [
    "Relate fields on the page with the fields we will have\n"
   ]
  },
  {
   "cell_type": "code",
   "execution_count": null,
   "id": "20579640",
   "metadata": {},
   "outputs": [],
   "source": []
  },
  {
   "cell_type": "markdown",
   "id": "cfe4a993",
   "metadata": {},
   "source": [
    "Get the contents of 3 fields and save in variables:\n",
    "id\n",
    "locality\n",
    "price"
   ]
  },
  {
   "cell_type": "code",
   "execution_count": null,
   "id": "f2920ba8",
   "metadata": {},
   "outputs": [],
   "source": []
  },
  {
   "cell_type": "markdown",
   "id": "63a0e032",
   "metadata": {},
   "source": [
    "Get contents of 2 fields for all links in a page"
   ]
  },
  {
   "cell_type": "code",
   "execution_count": null,
   "id": "a5224438",
   "metadata": {},
   "outputs": [],
   "source": []
  },
  {
   "cell_type": "markdown",
   "id": "925f7007",
   "metadata": {},
   "source": [
    "Save the contents to a csv file"
   ]
  },
  {
   "cell_type": "code",
   "execution_count": null,
   "id": "ba54f20e",
   "metadata": {},
   "outputs": [],
   "source": []
  }
 ],
 "metadata": {
  "kernelspec": {
   "display_name": "Python 3 (ipykernel)",
   "language": "python",
   "name": "python3"
  },
  "language_info": {
   "codemirror_mode": {
    "name": "ipython",
    "version": 3
   },
   "file_extension": ".py",
   "mimetype": "text/x-python",
   "name": "python",
   "nbconvert_exporter": "python",
   "pygments_lexer": "ipython3",
   "version": "3.8.8"
  }
 },
 "nbformat": 4,
 "nbformat_minor": 5
}
