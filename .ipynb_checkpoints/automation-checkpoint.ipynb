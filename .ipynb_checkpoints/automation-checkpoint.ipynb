{
 "cells": [
  {
   "cell_type": "markdown",
   "id": "9bc647eb",
   "metadata": {},
   "source": [
    "## Prototype"
   ]
  },
  {
   "cell_type": "markdown",
   "id": "4ebe1d7e",
   "metadata": {},
   "source": [
    "Code cell for importing libraries"
   ]
  },
  {
   "cell_type": "code",
   "execution_count": 1,
   "id": "d9c561b2",
   "metadata": {},
   "outputs": [],
   "source": [
    "from bs4 import BeautifulSoup\n",
    "from selenium import webdriver\n",
    "import requests"
   ]
  },
  {
   "cell_type": "markdown",
   "id": "034d12b9",
   "metadata": {},
   "source": [
    "Enter the address\n",
    "\n",
    "Connect to the website with selenium \n",
    "\n",
    "Select House and apartment (click)\n",
    "\n",
    "Find the clickable for Search on the list and click on it"
   ]
  },
  {
   "cell_type": "code",
   "execution_count": 4,
   "id": "42d60748",
   "metadata": {},
   "outputs": [
    {
     "name": "stdout",
     "output_type": "stream",
     "text": [
      "3\n",
      "[{'name': '__cf_bm', 'value': 'zdpkrgP2wdE.rqm4swWjScIiA1aGtqKQQIeTPIXQ4J8-1634126642-0-Ae7tAuUkpYIpcGgNADOy3S21xsW3qoqGFkTEosloioiOG9SkEG4qXtPsXyRrdK499Sn1/8S3AE9vjKLiAv8TmKQ=', 'path': '/', 'domain': '.immoweb.be', 'secure': True, 'httpOnly': True, 'expiry': 1634128442, 'sameSite': 'None'}, {'name': 'XSRF-TOKEN', 'value': 'eyJpdiI6Ing2dXJjTDlFTENKYU1yMHZlcURKMHc9PSIsInZhbHVlIjoiZEc5YmVpcldSVDVwd3pyQzFUb2NnQlFBYjdQT2E0UmRzSW5FNWx6TzcwZjFZd25WTlNhR2lSSVRrNldyRG50Syt5TWJlSmtveXZVV1RxSXJoYkF0c1pNTWgzbVF5UUNhcjQyRisrOWp6SmNRUDJKZ0ZDb1pYb2VnNlVVU0Q2a2giLCJtYWMiOiIyYTRjZDM0M2ZhMjgxYzY2MDllMTQyZTQ2NmMzMDE5ZTRkNGJhNDc3ZjQyNWFlZWIyMGY4ZWQyZWE3YWIzN2Q5In0%3D', 'path': '/', 'domain': 'www.immoweb.be', 'secure': True, 'httpOnly': False, 'expiry': 1636805044, 'sameSite': 'None'}, {'name': 'immoweb_session', 'value': 'eyJpdiI6IlVlQ1ZIdHl1eXVsdkk1aEVkbmF0Mmc9PSIsInZhbHVlIjoiSUdIOXhSL2hwUExyTmJ3NlFLRmVHby8rSlJnMC9ETGlYenBONmRVUHVFVkphVlJwa3RRY3VuTHpKVWZ1ZGdZMWludHdCR2JwTEo3U1hZc1YxTzBrY2dRaFY1aGdpV0h2ckZweDZWc0sraVQ3QkFZZ2FodGhQbllHaFAyT3Y0ZTQiLCJtYWMiOiJiM2UxNjc4MWIzYWI4MzY4NGE3MzU2M2IxNzhmN2JlMzRlOWJhNjE3Zjc5MWMzODRiMDY1OWNhMDg5MDM0OTNmIn0%3D', 'path': '/', 'domain': 'www.immoweb.be', 'secure': False, 'httpOnly': True, 'expiry': 1636805044, 'sameSite': 'None'}]\n",
      "0\n",
      "[]\n"
     ]
    }
   ],
   "source": [
    "import bs4\n",
    "import requests\n",
    "import numpy as np\n",
    "import pandas as pd\n",
    "import json\n",
    "import re\n",
    "import lxml.html\n",
    "import time\n",
    "import random\n",
    "from random import randint\n",
    "import logging\n",
    "import collections\n",
    "from time import gmtime, strftime\n",
    "\n",
    "import re\n",
    "from tabulate import tabulate\n",
    "import os\n",
    "\n",
    "from selenium.webdriver.support.ui import WebDriverWait\n",
    "from selenium.webdriver.support import expected_conditions as EC\n",
    "from selenium.common.exceptions import TimeoutException\n",
    "from selenium.webdriver.common.by import By \n",
    "from selenium.webdriver.common.action_chains import ActionChains\n",
    "import sys\n",
    "\n",
    "url = \"https://www.immoweb.be/en\"\n",
    "\n",
    "\n",
    "driver = webdriver.Firefox()\n",
    "driver.implicitly_wait(30)\n",
    "driver.get(url)\n",
    "\n",
    "cookies = driver.get_cookies()\n",
    "\n",
    "amount_cookies_start = len(cookies)\n",
    "print(amount_cookies_start) #print number of cookies being created\n",
    "print(cookies) # prints cookie pairs\n",
    "\n",
    "# there's 3 cookies found\n",
    "# deleting cookies\n",
    "driver.delete_cookie('__cf_bm')\n",
    "driver.delete_cookie('XSRF-TOKEN')\n",
    "driver.delete_cookie('immoweb_session')\n",
    "\n",
    "cookies = driver.get_cookies()\n",
    "\n",
    "amount_cookies_left = len(cookies)\n",
    "print(amount_cookies_left) # print amount of cookies left after deleting cookies\n",
    "print(cookies)\n",
    "\n",
    "link = driver.find_element_by_link_text(\"House and apartment\") # clicking the button\n",
    "link.click()\n",
    "\n",
    "\n"
   ]
  }
 ],
 "metadata": {
  "kernelspec": {
   "display_name": "Python 3",
   "language": "python",
   "name": "python3"
  },
  "language_info": {
   "codemirror_mode": {
    "name": "ipython",
    "version": 3
   },
   "file_extension": ".py",
   "mimetype": "text/x-python",
   "name": "python",
   "nbconvert_exporter": "python",
   "pygments_lexer": "ipython3",
   "version": "3.8.8"
  }
 },
 "nbformat": 4,
 "nbformat_minor": 5
}
