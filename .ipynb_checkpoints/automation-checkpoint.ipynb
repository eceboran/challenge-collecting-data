{
 "cells": [
  {
   "cell_type": "markdown",
   "id": "9bc647eb",
   "metadata": {},
   "source": [
    "## Automation"
   ]
  },
  {
   "cell_type": "markdown",
   "id": "4ebe1d7e",
   "metadata": {},
   "source": [
    "Code cell for importing libraries"
   ]
  },
  {
   "cell_type": "code",
   "execution_count": 1,
   "id": "d9c561b2",
   "metadata": {},
   "outputs": [],
   "source": [
    "from bs4 import BeautifulSoup\n",
    "from selenium import webdriver\n",
    "import requests"
   ]
  },
  {
   "cell_type": "markdown",
   "id": "034d12b9",
   "metadata": {},
   "source": [
    "Enter the address\n",
    "\n",
    "Connect to the website with selenium \n",
    "\n",
    "Select House and apartment (click)\n",
    "\n",
    "Find the clickable for Search on the list and click on it"
   ]
  },
  {
   "cell_type": "code",
   "execution_count": 2,
   "id": "42d60748",
   "metadata": {},
   "outputs": [
    {
     "name": "stdout",
     "output_type": "stream",
     "text": [
      "3\n",
      "[{'name': '__cf_bm', 'value': 'cDwyKGk4pFlJQi85rncayfw.ozGAnBWw6xnpq10p7kY-1634128704-0-ATLlQWQkzx5QyXnb02pBhNOmLUBCFeahQ23SbWLDI4te77jpF1YxjOO7PotktaPu4shQC6UCkNKHAHt+ImOhYm0=', 'path': '/', 'domain': '.immoweb.be', 'secure': True, 'httpOnly': True, 'expiry': 1634130504, 'sameSite': 'None'}, {'name': 'XSRF-TOKEN', 'value': 'eyJpdiI6IkE4ZDNEWWZybnhzc1pleGdDVTJIVFE9PSIsInZhbHVlIjoieG9hemJzS3E4UFdOSFUvQ2N3Nk5MRTR4SmZNeTAxekI1MjlBVGtaR0xnV29Jb3dueEJUcXhFUkJxeVlqWHgrbGdQbkxkZ0ZYRnAxM0pMNmdGQndZakl0VU1EZUUxNWtwMWpiM2NOVWo3ZlhYdFUwK1RORno0b3JBeks5VGswMlMiLCJtYWMiOiIxNjQyYmYwMWE2MDE1ODIxNmE5NjQ2ZDk5ODBmNzkxYjNhYzIyNGZkODdkZThmMDQ2NjhhZmU0YWRhYzVhNjBmIn0%3D', 'path': '/', 'domain': 'www.immoweb.be', 'secure': True, 'httpOnly': False, 'expiry': 1636807106, 'sameSite': 'None'}, {'name': 'immoweb_session', 'value': 'eyJpdiI6IndETnJlWmxOQml3Ujd6MjF5dno5U2c9PSIsInZhbHVlIjoiM0NEMlhQMVdBQjRoMW9JTXkzdmNhdG55MUtFZHEvKzliMWkwRDJIWjVER2wxNGE1K0p6QmRUSzhMeWJkc3F0ai93UlBhSElzWDl5cUFRdUtrQ01uUC8vaFYzcGdRbVdVSUxLTzh1d1FQTXNKbW41OVpBRUdsY3JtbWFGemJwSC8iLCJtYWMiOiI5YTY5NGJlMmRjMzc1YmIyNDgxOTU5YThjMzg0OGM3OWFmNDg1NGI3ZTU0MDg5NzljYTE1Mjk0MzE2NjljZjBkIn0%3D', 'path': '/', 'domain': 'www.immoweb.be', 'secure': False, 'httpOnly': True, 'expiry': 1636807106, 'sameSite': 'None'}]\n",
      "0\n",
      "[]\n"
     ]
    }
   ],
   "source": [
    "\n",
    "\n",
    "from selenium.webdriver.support.ui import WebDriverWait\n",
    "from selenium.webdriver.support import expected_conditions as EC\n",
    "from selenium.common.exceptions import TimeoutException\n",
    "from selenium.webdriver.common.by import By \n",
    "from selenium.webdriver.common.action_chains import ActionChains\n",
    "import sys\n",
    "\n",
    "url = \"https://www.immoweb.be/en\"\n",
    "\n",
    "\n",
    "driver = webdriver.Firefox()\n",
    "driver.implicitly_wait(30)\n",
    "driver.get(url)\n",
    "\n",
    "cookies = driver.get_cookies()\n",
    "\n",
    "amount_cookies_start = len(cookies)\n",
    "print(amount_cookies_start) #print number of cookies being created\n",
    "print(cookies) # prints cookie pairs\n",
    "\n",
    "# there's 3 cookies found\n",
    "# deleting cookies\n",
    "driver.delete_cookie('__cf_bm')\n",
    "driver.delete_cookie('XSRF-TOKEN')\n",
    "driver.delete_cookie('immoweb_session')\n",
    "\n",
    "cookies = driver.get_cookies()\n",
    "\n",
    "amount_cookies_left = len(cookies)\n",
    "print(amount_cookies_left) # print amount of cookies left after deleting cookies\n",
    "print(cookies)\n",
    "\n",
    "link = driver.find_element_by_link_text(\"House and apartment\") # clicking the button\n",
    "link.click()\n",
    "\n",
    "\n"
   ]
  },
  {
   "cell_type": "code",
   "execution_count": null,
   "id": "b2c4499b",
   "metadata": {},
   "outputs": [],
   "source": []
  }
 ],
 "metadata": {
  "kernelspec": {
   "display_name": "Python 3",
   "language": "python",
   "name": "python3"
  },
  "language_info": {
   "codemirror_mode": {
    "name": "ipython",
    "version": 3
   },
   "file_extension": ".py",
   "mimetype": "text/x-python",
   "name": "python",
   "nbconvert_exporter": "python",
   "pygments_lexer": "ipython3",
   "version": "3.8.8"
  }
 },
 "nbformat": 4,
 "nbformat_minor": 5
}
